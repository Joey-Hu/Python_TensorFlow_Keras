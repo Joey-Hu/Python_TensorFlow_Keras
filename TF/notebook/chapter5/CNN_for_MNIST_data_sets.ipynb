{
 "cells": [
  {
   "cell_type": "markdown",
   "metadata": {},
   "source": [
    "样本大小最好是权值数量的5-30倍"
   ]
  },
  {
   "cell_type": "markdown",
   "metadata": {},
   "source": [
    "***局部感受野***\n",
    "\n",
    "CNN通过感受野和权值共享减少了神经网络需要训练的参数个数"
   ]
  },
  {
   "cell_type": "code",
   "execution_count": 6,
   "metadata": {},
   "outputs": [],
   "source": [
    "import tensorflow as tf\n",
    "from tensorflow.examples.tutorials.mnist import input_data\n",
    "import warnings\n",
    "warnings.filterwarnings('ignore')"
   ]
  },
  {
   "cell_type": "code",
   "execution_count": 7,
   "metadata": {},
   "outputs": [
    {
     "name": "stdout",
     "output_type": "stream",
     "text": [
      "Extracting ../../data/mnist\\train-images-idx3-ubyte.gz\n",
      "Extracting ../../data/mnist\\train-labels-idx1-ubyte.gz\n",
      "Extracting ../../data/mnist\\t10k-images-idx3-ubyte.gz\n",
      "Extracting ../../data/mnist\\t10k-labels-idx1-ubyte.gz\n"
     ]
    }
   ],
   "source": [
    "mnist = input_data.read_data_sets(\"../../data/mnist\", one_hot=True)\n",
    "\n",
    "# 批次大小\n",
    "batch_size = 100\n",
    "\n",
    "# # of batches\n",
    "n_batch = mnist.train.num_examples // batch_size\n",
    "\n",
    "# 初始化权值\n",
    "def weight_variables(shape):\n",
    "    initial = tf.truncated_normal(shape, stddev=0.1)\n",
    "    return tf.Variable(initial)\n",
    "\n",
    "# 初始化偏置\n",
    "def bias_variables(shape):\n",
    "    initial = tf.constant(0.1, shape=shape)\n",
    "    return tf.Variable(initial)\n",
    "\n",
    "# 卷积层\n",
    "def conv2d(x, W):\n",
    "    # x an input tensor of shape `[batch, in_height, in_width, in_channels]`\n",
    "    # W  a filter / kernel tensor of shape `[filter_height, filter_width, in_channels, out_channels]`\n",
    "    # `strides[0] = strides[3] = 1`.  For the most common case of the samehorizontal and vertices strides, \n",
    "    # `strides = [1, stride, stride, 1]`.\n",
    "    #  padding: A `string` from: `\"SAME\", \"VALID\"`\n",
    "    return tf.nn.conv2d(x, W, strides=[1,1,1,1], padding='SAME')\n",
    "\n",
    "# 池化层\n",
    "def max_pool_2x2(x):\n",
    "    return tf.nn.max_pool(x, ksize=[1,2,2,1], strides=[1,2,2,1], padding='SAME')\n",
    "\n"
   ]
  },
  {
   "cell_type": "code",
   "execution_count": null,
   "metadata": {},
   "outputs": [],
   "source": []
  },
  {
   "cell_type": "code",
   "execution_count": null,
   "metadata": {},
   "outputs": [],
   "source": []
  }
 ],
 "metadata": {
  "kernelspec": {
   "display_name": "Python 3",
   "language": "python",
   "name": "python3"
  },
  "language_info": {
   "codemirror_mode": {
    "name": "ipython",
    "version": 3
   },
   "file_extension": ".py",
   "mimetype": "text/x-python",
   "name": "python",
   "nbconvert_exporter": "python",
   "pygments_lexer": "ipython3",
   "version": "3.6.9"
  }
 },
 "nbformat": 4,
 "nbformat_minor": 4
}
